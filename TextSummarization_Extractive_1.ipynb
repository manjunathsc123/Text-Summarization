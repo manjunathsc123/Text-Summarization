{
 "cells": [
  {
   "cell_type": "code",
   "execution_count": 28,
   "metadata": {
    "colab": {
     "base_uri": "https://localhost:8080/"
    },
    "id": "Ns1xcUwbYyvH",
    "outputId": "c3ab34d3-47d3-46f0-c895-d1b6023857fb"
   },
   "outputs": [
    {
     "name": "stdout",
     "output_type": "stream",
     "text": [
      "[nltk_data] Downloading package stopwords to /root/nltk_data...\n",
      "[nltk_data]   Package stopwords is already up-to-date!\n",
      "[nltk_data] Downloading package punkt to /root/nltk_data...\n",
      "[nltk_data]   Package punkt is already up-to-date!\n"
     ]
    },
    {
     "data": {
      "text/plain": [
       "True"
      ]
     },
     "execution_count": 28,
     "metadata": {},
     "output_type": "execute_result"
    }
   ],
   "source": [
    "# Natural Language Tool Kit (NLTK)\n",
    "import re\n",
    "import os\n",
    "import nltk\n",
    "import pandas as pd\n",
    "import numpy as np\n",
    "from tqdm import tqdm\n",
    "nltk.download('stopwords')\n",
    "nltk.download('punkt')"
   ]
  },
  {
   "cell_type": "code",
   "execution_count": 27,
   "metadata": {
    "colab": {
     "base_uri": "https://localhost:8080/",
     "height": 375,
     "resources": {
      "http://localhost:8080/nbextensions/google.colab/files.js": {
       "data": "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",
       "headers": [
        [
         "content-type",
         "application/javascript"
        ]
       ],
       "ok": true,
       "status": 200,
       "status_text": ""
      }
     }
    },
    "id": "coiMHI-Sb2OX",
    "outputId": "56986991-66da-4e94-84b6-aa300a267dac"
   },
   "outputs": [
    {
     "data": {
      "text/html": [
       "\n",
       "     <input type=\"file\" id=\"files-98f153e0-0f5d-4ede-9139-4a478b455d32\" name=\"files[]\" multiple disabled\n",
       "        style=\"border:none\" />\n",
       "     <output id=\"result-98f153e0-0f5d-4ede-9139-4a478b455d32\">\n",
       "      Upload widget is only available when the cell has been executed in the\n",
       "      current browser session. Please rerun this cell to enable.\n",
       "      </output>\n",
       "      <script src=\"/nbextensions/google.colab/files.js\"></script> "
      ],
      "text/plain": [
       "<IPython.core.display.HTML object>"
      ]
     },
     "metadata": {},
     "output_type": "display_data"
    },
    {
     "name": "stdout",
     "output_type": "stream",
     "text": [
      "Saving 0a000f521734500aa360bf6bb2bb31446e4d66cd.story to 0a000f521734500aa360bf6bb2bb31446e4d66cd.story\n",
      "Saving 0a0a4c90d59df9e36ffec4ba306b4f20f3ba4acb.story to 0a0a4c90d59df9e36ffec4ba306b4f20f3ba4acb.story\n",
      "Saving 0a0aa464d262b903f44b0f8eaa67f13dd1946cfd.story to 0a0aa464d262b903f44b0f8eaa67f13dd1946cfd.story\n",
      "Saving 0a0adc84ccbf9414613e145a3795dccc4828ddd4.story to 0a0adc84ccbf9414613e145a3795dccc4828ddd4.story\n",
      "Saving 0a0b44620d0dec6fdfc1aa139ff51bcb36c56c51.story to 0a0b44620d0dec6fdfc1aa139ff51bcb36c56c51.story\n",
      "Saving 0a0b59738a88e97ef66322a8c866d22ebf079289.story to 0a0b59738a88e97ef66322a8c866d22ebf079289.story\n",
      "Saving 0a0c2f4e07ba05f3226e8afec1350ac82161cd2e.story to 0a0c2f4e07ba05f3226e8afec1350ac82161cd2e.story\n",
      "Saving 0a0d11c125e4e4b061061f44b08f60cb5b8bf177.story to 0a0d11c125e4e4b061061f44b08f60cb5b8bf177.story\n",
      "Saving 0a0f56ebc5a0a67ed18de79d99b40a42d8058d04.story to 0a0f56ebc5a0a67ed18de79d99b40a42d8058d04.story\n",
      "Saving 0a1ad82d161d90d758240407cb8c8fcebff4a212.story to 0a1ad82d161d90d758240407cb8c8fcebff4a212.story\n"
     ]
    }
   ],
   "source": [
    "from google.colab import files\n",
    "uploaded = files.upload()"
   ]
  },
  {
   "cell_type": "code",
   "execution_count": 29,
   "metadata": {
    "id": "81Ku6DgxQfJ-"
   },
   "outputs": [],
   "source": [
    "Top_N = 4\n",
    "stop_words = nltk.corpus.stopwords.words('english')\n",
    "\n",
    "def get_word_count_dict(input_doc_text):\n",
    "    # create an empty dictionary to house the word count\n",
    "    word_count_dict = {}\n",
    "    for this_word in nltk.word_tokenize(input_doc_text):\n",
    "        if this_word in stop_words:\n",
    "            continue\n",
    "        if this_word not in word_count_dict.keys():\n",
    "            word_count_dict[this_word] = 1\n",
    "        else:\n",
    "            word_count_dict[this_word] += 1\n",
    "    return word_count_dict\n",
    "\n",
    "def clean_sentence(input_text):\n",
    "    # output_text = input_text.copy()\n",
    "    output_text = input_text\n",
    "    output_text = re.sub(r'\\[[0-9]*\\]',' ',output_text) # Replace Numbers\n",
    "    output_text = re.sub(r'\\s+',' ',output_text) # avoiding double+ spaces\n",
    "    output_text = output_text.lower()\n",
    "    # replace characters other than [a-zA-Z0-9],\n",
    "    # digits & one or more spaces with single space\n",
    "    regex_patterns = [r'\\W',r'\\d',r'\\s+']\n",
    "    for regex in regex_patterns:\n",
    "        output_text = re.sub(regex,' ',output_text)\n",
    "    return output_text\n",
    "\n",
    "def get_sentence_score(input_sentence, word_count_dict):\n",
    "    word_list = nltk.word_tokenize(input_sentence.lower())\n",
    "    score = 0\n",
    "    if len(word_list) > 30:\n",
    "        return score\n",
    "    for this_word in word_list:\n",
    "        score += word_count_dict.get(this_word, 0)\n",
    "    return score\n",
    "\n",
    "\n",
    "def get_extractive_summary(input_doc, n=Top_N):\n",
    "    cleaned_doc = clean_sentence(input_doc)\n",
    "    word_dict = get_word_count_dict(cleaned_doc)\n",
    "    input_sentences = nltk.sent_tokenize(input_doc)\n",
    "    sentence_df = pd.DataFrame(input_sentences, columns=['Sentence'])\n",
    "    sentence_df['CleanedSentence'] = sentence_df['Sentence'].apply(clean_sentence)\n",
    "    sentence_df['Score'] = sentence_df['CleanedSentence'].apply(lambda x: get_sentence_score(x, word_dict))\n",
    "    sentence_df.sort_values(by='Score', ascending = False, inplace=True)\n",
    "    summary = '\\n'.join(sentence_df['Sentence'].iloc[0:n].tolist())\n",
    "    return summary\n",
    "\n",
    "def read_text_file(text_file_path):\n",
    "    print('Reading file in ', text_file_path)\n",
    "    with open(text_file_path, 'r') as f:\n",
    "        text_data = f.read()\n",
    "    return text_data\n",
    "\n",
    "\n",
    "def save_text_file(text_data, output_file_path):\n",
    "    print('Saving file in ', output_file_path)\n",
    "    with open(output_file_path, 'w') as f:\n",
    "        f.write(text_data)\n"
   ]
  },
  {
   "cell_type": "code",
   "execution_count": 32,
   "metadata": {
    "colab": {
     "base_uri": "https://localhost:8080/"
    },
    "id": "jjejdu38ZMch",
    "outputId": "8d92c7ef-3f39-4cd4-bc4e-cab51965cbae"
   },
   "outputs": [
    {
     "name": "stderr",
     "output_type": "stream",
     "text": [
      "100%|██████████| 10/10 [00:00<00:00, 57.94it/s]"
     ]
    },
    {
     "name": "stdout",
     "output_type": "stream",
     "text": [
      "Reading file in  ./data/test/0a0a4c90d59df9e36ffec4ba306b4f20f3ba4acb.story\n",
      "Saving file in  ./data/test_summary/0a0a4c90d59df9e36ffec4ba306b4f20f3ba4acb.story\n",
      "Reading file in  ./data/test/0a0f56ebc5a0a67ed18de79d99b40a42d8058d04.story\n",
      "Saving file in  ./data/test_summary/0a0f56ebc5a0a67ed18de79d99b40a42d8058d04.story\n",
      "Reading file in  ./data/test/0a1ad82d161d90d758240407cb8c8fcebff4a212.story\n",
      "Saving file in  ./data/test_summary/0a1ad82d161d90d758240407cb8c8fcebff4a212.story\n",
      "Reading file in  ./data/test/0a000f521734500aa360bf6bb2bb31446e4d66cd.story\n",
      "Saving file in  ./data/test_summary/0a000f521734500aa360bf6bb2bb31446e4d66cd.story\n",
      "Reading file in  ./data/test/0a0d11c125e4e4b061061f44b08f60cb5b8bf177.story\n",
      "Saving file in  ./data/test_summary/0a0d11c125e4e4b061061f44b08f60cb5b8bf177.story\n",
      "Reading file in  ./data/test/0a0b44620d0dec6fdfc1aa139ff51bcb36c56c51.story\n",
      "Saving file in  ./data/test_summary/0a0b44620d0dec6fdfc1aa139ff51bcb36c56c51.story\n",
      "Reading file in  ./data/test/0a0adc84ccbf9414613e145a3795dccc4828ddd4.story\n",
      "Saving file in  ./data/test_summary/0a0adc84ccbf9414613e145a3795dccc4828ddd4.story\n",
      "Reading file in  ./data/test/0a0b59738a88e97ef66322a8c866d22ebf079289.story\n",
      "Saving file in  ./data/test_summary/0a0b59738a88e97ef66322a8c866d22ebf079289.story\n",
      "Reading file in  ./data/test/0a0c2f4e07ba05f3226e8afec1350ac82161cd2e.story\n",
      "Saving file in  ./data/test_summary/0a0c2f4e07ba05f3226e8afec1350ac82161cd2e.story\n",
      "Reading file in  ./data/test/0a0aa464d262b903f44b0f8eaa67f13dd1946cfd.story\n",
      "Saving file in  ./data/test_summary/0a0aa464d262b903f44b0f8eaa67f13dd1946cfd.story\n"
     ]
    },
    {
     "name": "stderr",
     "output_type": "stream",
     "text": [
      "\n"
     ]
    }
   ],
   "source": [
    "folder_path = './data/test'\n",
    "output_path = './data/test_summary'\n",
    "TOP_N = 4\n",
    "\n",
    "all_files_data = []\n",
    "for this_file in tqdm(os.listdir(folder_path)):\n",
    "    this_file_data = read_text_file(os.path.join(folder_path, this_file))\n",
    "    this_summary = get_extractive_summary(this_file_data, Top_N)\n",
    "    save_text_file(this_summary, os.path.join(output_path, this_file))"
   ]
  },
  {
   "cell_type": "code",
   "execution_count": 33,
   "metadata": {
    "colab": {
     "base_uri": "https://localhost:8080/"
    },
    "id": "Sn59z8amZibM",
    "outputId": "1407a69b-4b2b-4682-d276-7a9d60c45cf5"
   },
   "outputs": [
    {
     "name": "stdout",
     "output_type": "stream",
     "text": [
      "On Pi Day, one number 'reeks of mystery'\n",
      "\n",
      "Math may be scary, but pi is not -- as evidenced by the widespread revelry on Pi Day.\n",
      "The parade ends at the \"pi shrine\" -- a pi symbol with digits spiraling around it embedded in the sidewalk, which was unveiled last year.\n",
      "On Pi Day, is 'pi' under attack?\n",
      "But if you happen to live in a particularly pi-happy place, you might be able to take part in some larger-scale, pi-inspired activities.\n"
     ]
    }
   ],
   "source": [
    "print(this_summary)"
   ]
  },
  {
   "cell_type": "code",
   "execution_count": null,
   "metadata": {
    "id": "IcLLECC2XGOn"
   },
   "outputs": [],
   "source": []
  }
 ],
 "metadata": {
  "colab": {
   "collapsed_sections": [],
   "name": "TextSummarization_Extractive.ipynb",
   "provenance": []
  },
  "kernelspec": {
   "display_name": "Python 3",
   "language": "python",
   "name": "python3"
  },
  "language_info": {
   "codemirror_mode": {
    "name": "ipython",
    "version": 3
   },
   "file_extension": ".py",
   "mimetype": "text/x-python",
   "name": "python",
   "nbconvert_exporter": "python",
   "pygments_lexer": "ipython3",
   "version": "3.7.6"
  }
 },
 "nbformat": 4,
 "nbformat_minor": 1
}
